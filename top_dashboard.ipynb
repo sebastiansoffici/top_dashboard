{
 "cells": [
  {
   "cell_type": "markdown",
   "metadata": {},
   "source": [
    "Welcome! Click on this message and hit shift+enter and the same time until both cells with \"qgrid_widget\" are populated by a table. Clicking on the name of the metric will sort that metric, clicking the icon on the right of the metric allows you to filter further."
   ]
  },
  {
   "cell_type": "code",
   "execution_count": 8,
   "metadata": {
    "collapsed": true
   },
   "outputs": [],
   "source": [
    "import qgrid\n",
    "import pandas as pd"
   ]
  },
  {
   "cell_type": "code",
   "execution_count": 9,
   "metadata": {
    "collapsed": true
   },
   "outputs": [],
   "source": [
    "top_untotaled = pd.read_csv('top_stats_untotaled.csv',index_col = 0)\n",
    "top_totaled = pd.read_csv('top_stats_totaled.csv',index_col = 0)"
   ]
  },
  {
   "cell_type": "code",
   "execution_count": 10,
   "metadata": {
    "collapsed": true
   },
   "outputs": [],
   "source": [
    "qgrid_widget = qgrid.show_grid(top_untotaled, show_toolbar = True, grid_options = {\n",
    "    'fullWidthRows': True,\n",
    "    'syncColumnCellResize': True,\n",
    "    'forceFitColumns': False,\n",
    "    'defaultColumnWidth': 200,\n",
    "    'rowHeight': 28,\n",
    "    'enableColumnReorder': False,\n",
    "    'enableTextSelectionOnCells': True,\n",
    "    'editable': True,\n",
    "    'autoEdit': False,\n",
    "    'explicitInitialization': True,\n",
    "    'maxVisibleRows': 15,\n",
    "    'minVisibleRows': 8,\n",
    "    'sortable': True,\n",
    "    'filterable': True,\n",
    "    'highlightSelectedCell': False,\n",
    "    'highlightSelectedRow': True\n",
    "})\n"
   ]
  },
  {
   "cell_type": "code",
   "execution_count": 11,
   "metadata": {},
   "outputs": [
    {
     "data": {
      "application/vnd.jupyter.widget-view+json": {
       "model_id": "ed61703ad2664f93806703ff25f93ac1",
       "version_major": 2,
       "version_minor": 0
      },
      "text/plain": [
       "QgridWidget(grid_options={'fullWidthRows': True, 'syncColumnCellResize': True, 'forceFitColumns': False, 'defa…"
      ]
     },
     "metadata": {},
     "output_type": "display_data"
    }
   ],
   "source": [
    "qgrid_widget"
   ]
  },
  {
   "cell_type": "code",
   "execution_count": 12,
   "metadata": {
    "collapsed": true
   },
   "outputs": [],
   "source": [
    "qgrid_widget = qgrid.show_grid(top_totaled, show_toolbar = True, grid_options = {\n",
    "    'fullWidthRows': True,\n",
    "    'syncColumnCellResize': True,\n",
    "    'forceFitColumns': False,\n",
    "    'defaultColumnWidth': 200,\n",
    "    'rowHeight': 28,\n",
    "    'enableColumnReorder': False,\n",
    "    'enableTextSelectionOnCells': True,\n",
    "    'editable': True,\n",
    "    'autoEdit': False,\n",
    "    'explicitInitialization': True,\n",
    "    'maxVisibleRows': 15,\n",
    "    'minVisibleRows': 8,\n",
    "    'sortable': True,\n",
    "    'filterable': True,\n",
    "    'highlightSelectedCell': False,\n",
    "    'highlightSelectedRow': True\n",
    "})\n"
   ]
  },
  {
   "cell_type": "code",
   "execution_count": 13,
   "metadata": {},
   "outputs": [
    {
     "data": {
      "application/vnd.jupyter.widget-view+json": {
       "model_id": "897d569a6ca8435fbcfa281c86fd8d95",
       "version_major": 2,
       "version_minor": 0
      },
      "text/plain": [
       "QgridWidget(grid_options={'fullWidthRows': True, 'syncColumnCellResize': True, 'forceFitColumns': False, 'defa…"
      ]
     },
     "metadata": {},
     "output_type": "display_data"
    }
   ],
   "source": [
    "qgrid_widget"
   ]
  },
  {
   "cell_type": "markdown",
   "metadata": {},
   "source": [
    "Going further, below are the unique champions played by each player, along with the number of games played on that champion and their respective win rate:\n",
    "\n",
    "CG Solo:\n",
    "1. Camille (1 Game Played): 100.00% Win Rate\n",
    "2. Maokai (1 Game Played): 100.00% Win Rate\n",
    "3. Sion (6 Games Played): 66.67% Win Rate\n",
    "4. Gangplank (5 Games Played): 60.00% Win Rate\n",
    "5. Cho'Gath (5 Games Played): 60.00% Win Rate\n",
    "6. Ornn (6 Games Played): 33.33% Win Rate\n",
    "7. Gnar (7 Games Played): 28.57% Win Rate\n",
    "8. Jayce (1 Game Played): 0.00% Win Rate\n",
    "\n",
    "OPT zig:\n",
    "1. Gnar (3 Games Played): 66.67% Win Rate\n",
    "2. Maokai (2 Games Played): 50.00% Win Rate\n",
    "3. Cho'Gath (2 Games Played): 0.00% Win Rate\n",
    "4. Ornn (2 Games Played): 0.00% Win Rate\n",
    "5. Urgot (1 Game Played): 0.00% Win Rate\n",
    "6. Camille (1 Game Played): 0.00% Win Rate\n",
    "7. Sion (1 Game Played): 0.00% Win Rate\n",
    "\n",
    "TLA V1PER:\n",
    "1. Yasuo (2 Games Played): 100.00% Win Rate\n",
    "2. Ornn (2 Games Played): 100.00% Win Rate\n",
    "3. Olaf (1 Game Played): 100.00% Win Rate\n",
    "4. Shen (1 Game Played): 100.00% Win Rate\n",
    "5. Camille (4 Games Played): 75.00% Win Rate\n",
    "6. Riven (6 Games Played): 66.67% Win Rate\n",
    "7. Gangplank (3 Games Played): 66.67% Win Rate\n",
    "8. Gnar (2 Games Played): 50.00% Win Rate\n",
    "9. Lucian (1 Games Played): 0.00% Win Rate\n",
    "10. Sion (2 Games Played): 0.00% Win Rate\n",
    "\n",
    "100A Brandini:\n",
    "1. Maokai (2 Games Played): 100.00% Win Rate\n",
    "2. Cho'Gath (1 Game Played): 100.00% Win Rate\n",
    "3. Jax (1 Game Played): 100.00% Win Rate\n",
    "4. Gangplank (5 Games Played): 60.00% Win Rate\n",
    "5. Shen (2 Games Played): 50.00% Win Rate\n",
    "6. Gnar (3 Games Played): 33.33% Win Rate\n",
    "7. Vladimir (3 Games Played): 0.00% Win Rate\n",
    "8. Sion (1 Game Played): 0.00% Win Rate\n",
    "9. Camille (1 Game Played): 0.00% Win Rate\n",
    "10. Gragas (1 Game Played): 0.00% Win Rate"
   ]
  },
  {
   "cell_type": "markdown",
   "metadata": {},
   "source": [
    "Below are the unique champions the players have faced, number of games they have faced that champion, and their win rate against that champion:\n",
    "\n",
    "CG Solo:\n",
    "1. Vladimir (2 Games Played Against): 100.00% Win Rate\n",
    "2. Shen (1 Game Played Against): 100.00% Win Rate\n",
    "3. Ornn (3 Games Played Against): 66.67% Win Rate\n",
    "4. Gnar (10 Games Played Against): 60.00% Win Rate\n",
    "5. Camille (5 Games Played Against): 40.00% Win Rate\n",
    "6. Cho'Gath (5 Games Played Against): 40.00% Win Rate\n",
    "7. Sion (3 Games Played Against): 33.33% Win Rate\n",
    "8. Gangplank (2 Game Played Against): 0.00% Win Rate\n",
    "9. Kled (1 Game Played Against): 0.00% Win Rate\n",
    "\n",
    "OPT zig:\n",
    "1. Camille (2 Games Played Against): 100.00% Win Rate\n",
    "2. Gnar (6 Games Played Against): 16.67% Win Rate\n",
    "3. Gangplank (2 Games Played Against): 0.00% Win Rate\n",
    "4. Shen (1 Game Played Against): 0.00% Win Rate\n",
    "5. Darius (1 Game Played): 0.00% Win Rate\n",
    "\n",
    "TLA V1PER:\n",
    "1. Gnar (5 Games Played Against): 100.00% Win Rate\n",
    "2. Poppy (2 Games Played Against): 100.00% Win Rate\n",
    "3. Irelia (1 Game Played Against): 100.00% Win Rate\n",
    "4. Ornn (1 Game Played Against): 100.00% Win Rate\n",
    "5. Trundle (1 Game Played Against): 100.00% Win Rate\n",
    "6. Shen (3 Games Played Against): 66.67% Win Rate\n",
    "7. Cho'Gath (4 Games Played Against): 50.00% Win Rate\n",
    "8. Gangplank (2 Games Played Against): 50.00% Win Rate\n",
    "9. Maokai (2 Games Played Against): 50.00% Win Rate\n",
    "10. Camille (1 Game Played Against): 0.00% Win Rate\n",
    "11. Akali (1 Game Played Against): 0.00% Win Rate\n",
    "12. Sion (1 Game Played Against): 0.00% Win Rate\n",
    "\n",
    "100A Brandini:\n",
    "1. Camille (1 Game Played Against): 100.00% Win Rate\n",
    "2. Dr.Mundo (1 Game Played Against): 100.00% Win Rate\n",
    "3. Kled (1 Game Played Against): 100.00% Win Rate\n",
    "4. Rumble (1 Game Played Against): 100.00% Win Rate\n",
    "5. Trundle (1 Game Played Against): 100.00% Win Rate\n",
    "6. Gnar (6 Games Played Against): 50.00% Win Rate\n",
    "7. Sion (3 Games Played Against): 33.33% Win Rate\n",
    "8. Gangplank (1 Game Played Against): 0.00% Win Rate\n",
    "9. Jayce (1 Game Played Against): 0.00% Win Rate\n",
    "10. Riven (1 Game Played Against): 0.00% Win Rate\n",
    "11. Poppy (1 Game Played Against): 0.00% Win Rate\n",
    "12. Maokai (1 Game Played Against): 0.00% Win Rate\n",
    "13. Shen (1 Game Played Against): 0.00% Win Rate"
   ]
  },
  {
   "cell_type": "code",
   "execution_count": null,
   "metadata": {
    "collapsed": true
   },
   "outputs": [],
   "source": []
  }
 ],
 "metadata": {
  "kernelspec": {
   "display_name": "Python 3",
   "language": "python",
   "name": "python3"
  },
  "language_info": {
   "codemirror_mode": {
    "name": "ipython",
    "version": 3
   },
   "file_extension": ".py",
   "mimetype": "text/x-python",
   "name": "python",
   "nbconvert_exporter": "python",
   "pygments_lexer": "ipython3",
   "version": "3.6.3"
  }
 },
 "nbformat": 4,
 "nbformat_minor": 2
}
